{
 "cells": [
  {
   "cell_type": "code",
   "execution_count": 2,
   "id": "1dd00102-86fc-4dc1-8f7d-b86f6e7bff7f",
   "metadata": {},
   "outputs": [],
   "source": [
    "from pyspark.sql import SparkSession\n",
    "from pyspark.sql import Column\n",
    "from pyspark.sql.functions import upper,split,trim,ascii,substring,substring_index\n",
    "from pyspark.sql.types import DecimalType,IntegerType"
   ]
  },
  {
   "cell_type": "code",
   "execution_count": 3,
   "id": "4a57720f-d7de-4cb9-a1ac-ae1480cbd8f0",
   "metadata": {},
   "outputs": [
    {
     "name": "stdout",
     "output_type": "stream",
     "text": [
      "22/09/14 11:32:19 WARN Utils: Your hostname, debianwork resolves to a loopback address: 127.0.1.1; using 10.0.2.15 instead (on interface enp0s3)\n",
      "22/09/14 11:32:19 WARN Utils: Set SPARK_LOCAL_IP if you need to bind to another address\n"
     ]
    },
    {
     "name": "stderr",
     "output_type": "stream",
     "text": [
      "Setting default log level to \"WARN\".\n",
      "To adjust logging level use sc.setLogLevel(newLevel). For SparkR, use setLogLevel(newLevel).\n"
     ]
    },
    {
     "name": "stdout",
     "output_type": "stream",
     "text": [
      "22/09/14 11:32:20 WARN NativeCodeLoader: Unable to load native-hadoop library for your platform... using builtin-java classes where applicable\n"
     ]
    }
   ],
   "source": [
    "spark = SparkSession.builder.getOrCreate()\n",
    "spark.conf.set('spark.sql.repl.eagerEval.enabled', True)\n",
    "degree='°'"
   ]
  },
  {
   "cell_type": "code",
   "execution_count": 7,
   "id": "12cc8884-8014-4781-80f9-07f0ddd9a728",
   "metadata": {},
   "outputs": [],
   "source": [
    "f_temps = \"/home/ridvan/data/global_sea_temp/SeaTemperatures.csv\" # sys.argv[1]\n",
    "f_cities = \"/home/ridvan/data/global_sea_temp/Cities.csv\" # sys.argv[2]\n",
    "f_countries = \"/home/ridvan/data/global_sea_temp/Countries.csv\" # sys.argv[3]"
   ]
  },
  {
   "cell_type": "code",
   "execution_count": 24,
   "id": "b9b42345-1c01-4e52-82f8-a3da0fd37b6e",
   "metadata": {},
   "outputs": [
    {
     "name": "stdout",
     "output_type": "stream",
     "text": [
      "+---------+---------------+---------+--------+\n",
      "|     City|       CurrTemp|WindSpeed|Humidity|\n",
      "+---------+---------------+---------+--------+\n",
      "|  Algiers|23.6°C / 74.5°F|   14 mph|     65%|\n",
      "|   Annaba|24.9°C / 76.8°F|    3 mph|     88%|\n",
      "|      Bab|23.5°C / 74.3°F|    5 mph|     52%|\n",
      "|   Bejaïa|24.3°C / 75.7°F|    5 mph|     78%|\n",
      "|     Beni|21.8°C / 71.2°F|    4 mph|     75%|\n",
      "|    Bordj|23.5°C / 74.3°F|    8 mph|     88%|\n",
      "|Boumerdas|23.4°C / 74.2°F|   13 mph|     55%|\n",
      "|   Dellys|24.5°C / 76.1°F|    8 mph|     59%|\n",
      "|    Jijel|24.3°C / 75.7°F|    2 mph|     83%|\n",
      "|     Mers|21.8°C / 71.2°F|    6 mph|     88%|\n",
      "+---------+---------------+---------+--------+\n",
      "only showing top 10 rows\n",
      "\n"
     ]
    }
   ],
   "source": [
    "df_temps = spark.read \\\n",
    "        .option(\"header\",\"true\") \\\n",
    "        .csv(f_temps)\n",
    "\n",
    "df_temps.show(10)"
   ]
  },
  {
   "cell_type": "code",
   "execution_count": 25,
   "id": "33b508bf-f8bf-4435-8567-839e611104af",
   "metadata": {},
   "outputs": [
    {
     "name": "stdout",
     "output_type": "stream",
     "text": [
      "+-------+---------------+\n",
      "|Country|           City|\n",
      "+-------+---------------+\n",
      "|Algeria|        Algiers|\n",
      "|Algeria|         Annaba|\n",
      "|Algeria|    Bab Ezzouar|\n",
      "|Algeria|         Bejaïa|\n",
      "|Algeria|       Beni Saf|\n",
      "|Algeria|Bordj el Kiffan|\n",
      "|Algeria|      Boumerdas|\n",
      "|Algeria|         Dellys|\n",
      "|Algeria|          Jijel|\n",
      "|Algeria|  Mers el Kebir|\n",
      "+-------+---------------+\n",
      "only showing top 10 rows\n",
      "\n"
     ]
    }
   ],
   "source": [
    "df_cities = spark.read \\\n",
    "        .option(\"header\",\"true\") \\\n",
    "        .csv(f_cities)\n",
    "\n",
    "df_cities.show(10)"
   ]
  },
  {
   "cell_type": "code",
   "execution_count": 43,
   "id": "a1bbeaab-4708-4dc5-8faa-fa17fb345e58",
   "metadata": {},
   "outputs": [
    {
     "name": "stdout",
     "output_type": "stream",
     "text": [
      "+---------+-----------------+\n",
      "|Continent|          Country|\n",
      "+---------+-----------------+\n",
      "|   Africa|          Algeria|\n",
      "|   Africa|           Angola|\n",
      "|   Africa|         Cameroon|\n",
      "|   Africa|       Cape Verde|\n",
      "|   Africa|            Congo|\n",
      "|   Africa|         Djibouti|\n",
      "|   Africa|            Egypt|\n",
      "|   Africa|Equatorial Guinea|\n",
      "|   Africa|          Eritrea|\n",
      "|   Africa|            Gabon|\n",
      "+---------+-----------------+\n",
      "only showing top 10 rows\n",
      "\n"
     ]
    }
   ],
   "source": [
    "df_countries = spark.read \\\n",
    "        .option(\"header\",\"true\") \\\n",
    "        .csv(f_countries)\n",
    "\n",
    "df_countries = df_countries.select(\n",
    "    trim(df_countries.Continent).alias('Continent'),\n",
    "    trim(df_countries.Country).alias('Country')\n",
    ")\n",
    "\n",
    "df_countries.show(10)"
   ]
  },
  {
   "cell_type": "code",
   "execution_count": 29,
   "id": "e8bcc6d3-8197-45e6-9253-7243db11302c",
   "metadata": {},
   "outputs": [
    {
     "name": "stdout",
     "output_type": "stream",
     "text": [
      "+---------+------+------+-------------+------------+\n",
      "|     City|temp_c|temp_f|windspeed_mph|humidity_pct|\n",
      "+---------+------+------+-------------+------------+\n",
      "|  Algiers|  23.6|  74.5|           14|          65|\n",
      "|   Annaba|  24.9|  76.8|            3|          88|\n",
      "|      Bab|  23.5|  74.3|            5|          52|\n",
      "|   Bejaïa|  24.3|  75.7|            5|          78|\n",
      "|     Beni|  21.8|  71.2|            4|          75|\n",
      "|    Bordj|  23.5|  74.3|            8|          88|\n",
      "|Boumerdas|  23.4|  74.2|           13|          55|\n",
      "|   Dellys|  24.5|  76.1|            8|          59|\n",
      "|    Jijel|  24.3|  75.7|            2|          83|\n",
      "|     Mers|  21.8|  71.2|            6|          88|\n",
      "+---------+------+------+-------------+------------+\n",
      "only showing top 10 rows\n",
      "\n"
     ]
    }
   ],
   "source": [
    "df_temps_clean = df_temps.select(\n",
    "        df_temps.City,\n",
    "        substring_index(split(df_temps.CurrTemp,'/').getItem(0),degree,1)\\\n",
    "                .cast(DecimalType(4,1))\n",
    "                .alias('temp_c'),\n",
    "        substring_index(split(df_temps.CurrTemp,'/').getItem(1),degree,1)\\\n",
    "                .cast(DecimalType(4,1))\\\n",
    "                .alias('temp_f'),\n",
    "        substring_index(df_temps.WindSpeed,' mph',1)\\\n",
    "                .cast('integer')\\\n",
    "                .alias('windspeed_mph'),\n",
    "        substring_index(df_temps.Humidity,'%',1)\\\n",
    "                .cast('integer')\\\n",
    "                .alias('humidity_pct')\n",
    "                )\n",
    "\n",
    "df_temps_clean.show(10)"
   ]
  },
  {
   "cell_type": "code",
   "execution_count": 45,
   "id": "b00f770d-3a44-433c-879a-716481ed786a",
   "metadata": {
    "tags": []
   },
   "outputs": [
    {
     "name": "stdout",
     "output_type": "stream",
     "text": [
      "+-------+----------+------+------+-------------+------------+---------+\n",
      "|Country|      City|temp_c|temp_f|windspeed_mph|humidity_pct|Continent|\n",
      "+-------+----------+------+------+-------------+------------+---------+\n",
      "|Algeria|   Algiers|  23.6|  74.5|           14|          65|   Africa|\n",
      "|Algeria|    Annaba|  24.9|  76.8|            3|          88|   Africa|\n",
      "|Algeria|    Bejaïa|  24.3|  75.7|            5|          78|   Africa|\n",
      "|Algeria| Boumerdas|  23.4|  74.2|           13|          55|   Africa|\n",
      "|Algeria|    Dellys|  24.5|  76.1|            8|          59|   Africa|\n",
      "|Algeria|     Jijel|  24.3|  75.7|            2|          83|   Africa|\n",
      "|Algeria|Mostaganem|  22.4|  72.3|            5|          78|   Africa|\n",
      "|Algeria|      Oran|  21.8|  71.3|            8|          88|   Africa|\n",
      "|Algeria|    Skikda|  24.5|  76.1|            2|          75|   Africa|\n",
      "|Algeria|    Tipasa|  23.3|  73.9|            2|          62|   Africa|\n",
      "+-------+----------+------+------+-------------+------------+---------+\n",
      "only showing top 10 rows\n",
      "\n"
     ]
    }
   ],
   "source": [
    "df_temps2 = df_temps_clean\\\n",
    "    .join(df_cities, ['City'])\\\n",
    "    .join(df_countries,['Country'])\n",
    "\n",
    "df_temps2.show(10) "
   ]
  },
  {
   "cell_type": "code",
   "execution_count": 41,
   "id": "7ae0090d-53e8-4975-ba3c-7de7ad5571d9",
   "metadata": {},
   "outputs": [
    {
     "data": {
      "text/plain": [
       "['__add__',\n",
       " '__and__',\n",
       " '__bool__',\n",
       " '__class__',\n",
       " '__contains__',\n",
       " '__delattr__',\n",
       " '__dict__',\n",
       " '__dir__',\n",
       " '__div__',\n",
       " '__doc__',\n",
       " '__eq__',\n",
       " '__format__',\n",
       " '__ge__',\n",
       " '__getattr__',\n",
       " '__getattribute__',\n",
       " '__getitem__',\n",
       " '__gt__',\n",
       " '__hash__',\n",
       " '__init__',\n",
       " '__init_subclass__',\n",
       " '__invert__',\n",
       " '__iter__',\n",
       " '__le__',\n",
       " '__lt__',\n",
       " '__mod__',\n",
       " '__module__',\n",
       " '__mul__',\n",
       " '__ne__',\n",
       " '__neg__',\n",
       " '__new__',\n",
       " '__nonzero__',\n",
       " '__or__',\n",
       " '__pow__',\n",
       " '__radd__',\n",
       " '__rand__',\n",
       " '__rdiv__',\n",
       " '__reduce__',\n",
       " '__reduce_ex__',\n",
       " '__repr__',\n",
       " '__rmod__',\n",
       " '__rmul__',\n",
       " '__ror__',\n",
       " '__rpow__',\n",
       " '__rsub__',\n",
       " '__rtruediv__',\n",
       " '__setattr__',\n",
       " '__sizeof__',\n",
       " '__str__',\n",
       " '__sub__',\n",
       " '__subclasshook__',\n",
       " '__truediv__',\n",
       " '__weakref__',\n",
       " '_asc_doc',\n",
       " '_asc_nulls_first_doc',\n",
       " '_asc_nulls_last_doc',\n",
       " '_bitwiseAND_doc',\n",
       " '_bitwiseOR_doc',\n",
       " '_bitwiseXOR_doc',\n",
       " '_contains_doc',\n",
       " '_desc_doc',\n",
       " '_desc_nulls_first_doc',\n",
       " '_desc_nulls_last_doc',\n",
       " '_endswith_doc',\n",
       " '_eqNullSafe_doc',\n",
       " '_ilike_doc',\n",
       " '_isNotNull_doc',\n",
       " '_isNull_doc',\n",
       " '_jc',\n",
       " '_like_doc',\n",
       " '_rlike_doc',\n",
       " '_startswith_doc',\n",
       " 'alias',\n",
       " 'asc',\n",
       " 'asc_nulls_first',\n",
       " 'asc_nulls_last',\n",
       " 'astype',\n",
       " 'between',\n",
       " 'bitwiseAND',\n",
       " 'bitwiseOR',\n",
       " 'bitwiseXOR',\n",
       " 'cast',\n",
       " 'contains',\n",
       " 'desc',\n",
       " 'desc_nulls_first',\n",
       " 'desc_nulls_last',\n",
       " 'dropFields',\n",
       " 'endswith',\n",
       " 'eqNullSafe',\n",
       " 'getField',\n",
       " 'getItem',\n",
       " 'ilike',\n",
       " 'isNotNull',\n",
       " 'isNull',\n",
       " 'isin',\n",
       " 'like',\n",
       " 'name',\n",
       " 'otherwise',\n",
       " 'over',\n",
       " 'rlike',\n",
       " 'startswith',\n",
       " 'substr',\n",
       " 'when',\n",
       " 'withField']"
      ]
     },
     "execution_count": 41,
     "metadata": {},
     "output_type": "execute_result"
    }
   ],
   "source": [
    "dir(df_countries.Country == df_cities.Country)"
   ]
  }
 ],
 "metadata": {
  "kernelspec": {
   "display_name": "Python 3 (ipykernel)",
   "language": "python",
   "name": "python3"
  },
  "language_info": {
   "codemirror_mode": {
    "name": "ipython",
    "version": 3
   },
   "file_extension": ".py",
   "mimetype": "text/x-python",
   "name": "python",
   "nbconvert_exporter": "python",
   "pygments_lexer": "ipython3",
   "version": "3.9.2"
  }
 },
 "nbformat": 4,
 "nbformat_minor": 5
}

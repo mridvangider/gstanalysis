{
 "cells": [
  {
   "cell_type": "code",
   "execution_count": 6,
   "id": "1dd00102-86fc-4dc1-8f7d-b86f6e7bff7f",
   "metadata": {},
   "outputs": [],
   "source": [
    "from pyspark.sql import SparkSession\n",
    "from pyspark.sql import Column\n",
    "from pyspark.sql.functions import upper,split,trim,ascii,substring,substring_index\n",
    "from pyspark.sql.types import DecimalType,IntegerType"
   ]
  },
  {
   "cell_type": "code",
   "execution_count": 2,
   "id": "4a57720f-d7de-4cb9-a1ac-ae1480cbd8f0",
   "metadata": {},
   "outputs": [
    {
     "name": "stdout",
     "output_type": "stream",
     "text": [
      "22/08/15 13:30:18 WARN Utils: Your hostname, debianwork resolves to a loopback address: 127.0.1.1; using 10.0.2.15 instead (on interface enp0s3)\n",
      "22/08/15 13:30:18 WARN Utils: Set SPARK_LOCAL_IP if you need to bind to another address\n"
     ]
    },
    {
     "name": "stderr",
     "output_type": "stream",
     "text": [
      "Setting default log level to \"WARN\".\n",
      "To adjust logging level use sc.setLogLevel(newLevel). For SparkR, use setLogLevel(newLevel).\n"
     ]
    },
    {
     "name": "stdout",
     "output_type": "stream",
     "text": [
      "22/08/15 13:30:20 WARN NativeCodeLoader: Unable to load native-hadoop library for your platform... using builtin-java classes where applicable\n"
     ]
    }
   ],
   "source": [
    "spark = SparkSession.builder.getOrCreate()\n",
    "spark.conf.set('spark.sql.repl.eagerEval.enabled', True)\n",
    "degree='°'"
   ]
  },
  {
   "cell_type": "code",
   "execution_count": 3,
   "id": "b9b42345-1c01-4e52-82f8-a3da0fd37b6e",
   "metadata": {},
   "outputs": [
    {
     "name": "stdout",
     "output_type": "stream",
     "text": [
      "+---------+---------------+---------+--------+\n",
      "|     City|       CurrTemp|WindSpeed|Humidity|\n",
      "+---------+---------------+---------+--------+\n",
      "|  Algiers|23.6°C / 74.5°F|   14 mph|     65%|\n",
      "|   Annaba|24.9°C / 76.8°F|    3 mph|     88%|\n",
      "|      Bab|23.5°C / 74.3°F|    5 mph|     52%|\n",
      "|   Bejaïa|24.3°C / 75.7°F|    5 mph|     78%|\n",
      "|     Beni|21.8°C / 71.2°F|    4 mph|     75%|\n",
      "|    Bordj|23.5°C / 74.3°F|    8 mph|     88%|\n",
      "|Boumerdas|23.4°C / 74.2°F|   13 mph|     55%|\n",
      "|   Dellys|24.5°C / 76.1°F|    8 mph|     59%|\n",
      "|    Jijel|24.3°C / 75.7°F|    2 mph|     83%|\n",
      "|     Mers|21.8°C / 71.2°F|    6 mph|     88%|\n",
      "+---------+---------------+---------+--------+\n",
      "only showing top 10 rows\n",
      "\n"
     ]
    }
   ],
   "source": [
    "df_temps = spark.read.option(\"header\",True).csv(\"../../data/global_sea_temp/SeaTemperatures.csv\")\n",
    "df_temps.show(10)"
   ]
  },
  {
   "cell_type": "code",
   "execution_count": 9,
   "id": "b00f770d-3a44-433c-879a-716481ed786a",
   "metadata": {
    "tags": []
   },
   "outputs": [
    {
     "name": "stdout",
     "output_type": "stream",
     "text": [
      "+---------+------+------+-------------+--------+\n",
      "|     City|Temp_C|Temp_F|WindSpeed_mph|Humidity|\n",
      "+---------+------+------+-------------+--------+\n",
      "|  Algiers|  23.6|  74.5|           14|    0.65|\n",
      "|   Annaba|  24.9|  76.8|            3|    0.88|\n",
      "|      Bab|  23.5|  74.3|            5|    0.52|\n",
      "|   Bejaïa|  24.3|  75.7|            5|    0.78|\n",
      "|     Beni|  21.8|  71.2|            4|    0.75|\n",
      "|    Bordj|  23.5|  74.3|            8|    0.88|\n",
      "|Boumerdas|  23.4|  74.2|           13|    0.55|\n",
      "|   Dellys|  24.5|  76.1|            8|    0.59|\n",
      "|    Jijel|  24.3|  75.7|            2|    0.83|\n",
      "|     Mers|  21.8|  71.2|            6|    0.88|\n",
      "+---------+------+------+-------------+--------+\n",
      "only showing top 10 rows\n",
      "\n"
     ]
    }
   ],
   "source": [
    "df_temps2 = df_temps.select(\n",
    "    df_temps.City,\n",
    "    substring_index(\n",
    "        split(df_temps.CurrTemp,'/').getItem(0),degree,1\n",
    "    ).cast(DecimalType(4,1)).alias('Temp_C'),\n",
    "    substring_index(\n",
    "        split(df_temps.CurrTemp,'/').getItem(1),degree,1\n",
    "    ).cast(DecimalType(4,1)).alias('Temp_F'),\n",
    "    substring_index(df_temps.WindSpeed,' mph',1).cast('integer').alias('WindSpeed_mph'),\n",
    "    (substring_index(df_temps.Humidity,'%',1).cast('integer') / 100).alias('Humidity')\n",
    ")\n",
    "df_temps2.show(10)    "
   ]
  }
 ],
 "metadata": {
  "kernelspec": {
   "display_name": "Python 3 (ipykernel)",
   "language": "python",
   "name": "python3"
  },
  "language_info": {
   "codemirror_mode": {
    "name": "ipython",
    "version": 3
   },
   "file_extension": ".py",
   "mimetype": "text/x-python",
   "name": "python",
   "nbconvert_exporter": "python",
   "pygments_lexer": "ipython3",
   "version": "3.9.2"
  }
 },
 "nbformat": 4,
 "nbformat_minor": 5
}
